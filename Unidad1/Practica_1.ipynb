{
  "nbformat": 4,
  "nbformat_minor": 0,
  "metadata": {
    "colab": {
      "provenance": [],
      "authorship_tag": "ABX9TyOmTnhaxLmhahVQW2uXOcca",
      "include_colab_link": true
    },
    "kernelspec": {
      "name": "python3",
      "display_name": "Python 3"
    },
    "language_info": {
      "name": "python"
    }
  },
  "cells": [
    {
      "cell_type": "markdown",
      "metadata": {
        "id": "view-in-github",
        "colab_type": "text"
      },
      "source": [
        "<a href=\"https://colab.research.google.com/github/anikill44/Machine/blob/main/Unidad1/Practica_1.ipynb\" target=\"_parent\"><img src=\"https://colab.research.google.com/assets/colab-badge.svg\" alt=\"Open In Colab\"/></a>"
      ]
    },
    {
      "cell_type": "markdown",
      "source": [
        "# **Asignatura Machine Learning**\n",
        "\n",
        "### **Unidad 1**\n",
        "\n",
        "Docente: Jose Gabriel Rpdriguez Rivas\n",
        "\n",
        "Alumno: ______________________________\n",
        "\n",
        "Practiva 1: Datawrangling"
      ],
      "metadata": {
        "id": "HV7W8Iht_jpc"
      }
    },
    {
      "cell_type": "code",
      "execution_count": null,
      "metadata": {
        "id": "IEYRjd3o_cvV"
      },
      "outputs": [],
      "source": []
    }
  ]
}